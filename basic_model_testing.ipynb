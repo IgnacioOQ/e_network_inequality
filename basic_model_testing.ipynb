{
 "cells": [
  {
   "cell_type": "markdown",
   "metadata": {},
   "source": [
    "# Basic Testing\n",
    "\n",
    "In this notebook we test that the main files work well."
   ]
  },
  {
   "cell_type": "code",
   "execution_count": 1,
   "metadata": {},
   "outputs": [],
   "source": [
    "from imports import *\n",
    "from agents import BetaAgent\n",
    "from model import Model"
   ]
  },
  {
   "cell_type": "markdown",
   "metadata": {},
   "source": [
    "## Try with variance"
   ]
  },
  {
   "cell_type": "code",
   "execution_count": 2,
   "metadata": {},
   "outputs": [
    {
     "name": "stderr",
     "output_type": "stream",
     "text": [
      "  3%|▎         | 331/10000 [00:16<08:03, 19.99it/s]"
     ]
    },
    {
     "name": "stdout",
     "output_type": "stream",
     "text": [
      "steps:  332\n",
      "<class 'pandas.core.frame.DataFrame'>\n",
      "RangeIndex: 100 entries, 0 to 99\n",
      "Columns: 665 entries, 0 to 664\n",
      "dtypes: object(665)\n",
      "memory usage: 519.7+ KB\n"
     ]
    },
    {
     "name": "stderr",
     "output_type": "stream",
     "text": [
      "\n"
     ]
    }
   ],
   "source": [
    "n_agents = 100\n",
    "my_network = G = nx.gnp_random_graph(n_agents, p=0.4, directed=True)\n",
    "nx.complete_graph(n_agents) #create_hybrid_network(20,degree=5,p_preferential_attachment=.01)#nx.erdos_renyi_graph(n_agents, 0.009)\\n\",\n",
    "my_model = Model(my_network, n_experiments=30, uncertainty=0.001,\n",
    "                 histories=True,sampling_update=False,variance_stopping = True)\n",
    "my_model.run_simulation(number_of_steps=10000,show_bar=True) #number_of_steps is a max amount\\n\",\n",
    "print('steps: ',my_model.n_steps)\n",
    "df = pd.DataFrame(my_model.agent_histories)\n",
    "df.info()"
   ]
  },
  {
   "cell_type": "markdown",
   "metadata": {},
   "source": [
    "## Try without variance"
   ]
  },
  {
   "cell_type": "code",
   "execution_count": 3,
   "metadata": {},
   "outputs": [
    {
     "name": "stderr",
     "output_type": "stream",
     "text": [
      "  3%|▎         | 343/10000 [00:10<05:06, 31.47it/s]"
     ]
    },
    {
     "name": "stdout",
     "output_type": "stream",
     "text": [
      "steps:  344\n",
      "<class 'pandas.core.frame.DataFrame'>\n",
      "RangeIndex: 100 entries, 0 to 99\n",
      "Columns: 689 entries, 0 to 688\n",
      "dtypes: object(689)\n",
      "memory usage: 538.4+ KB\n"
     ]
    },
    {
     "name": "stderr",
     "output_type": "stream",
     "text": [
      "\n"
     ]
    }
   ],
   "source": [
    "n_agents = 100\n",
    "my_network = G = nx.gnp_random_graph(n_agents, p=0.4, directed=True)\n",
    "nx.complete_graph(n_agents) #create_hybrid_network(20,degree=5,p_preferential_attachment=.01)#nx.erdos_renyi_graph(n_agents, 0.009)\\n\",\n",
    "my_model = Model(my_network, n_experiments=30, uncertainty=0.001,\n",
    "                 histories=True,sampling_update=False,variance_stopping = False)\n",
    "my_model.run_simulation(number_of_steps=10000,show_bar=True) #number_of_steps is a max amount\\n\",\n",
    "print('steps: ',my_model.n_steps)\n",
    "df = pd.DataFrame(my_model.agent_histories)\n",
    "df.info()"
   ]
  },
  {
   "cell_type": "markdown",
   "metadata": {},
   "source": [
    "## Santity checks"
   ]
  },
  {
   "cell_type": "code",
   "execution_count": 4,
   "metadata": {},
   "outputs": [
    {
     "name": "stdout",
     "output_type": "stream",
     "text": [
      "steps:  344\n",
      "conclusion:  0.48\n"
     ]
    },
    {
     "data": {
      "text/html": [
       "<div>\n",
       "<style scoped>\n",
       "    .dataframe tbody tr th:only-of-type {\n",
       "        vertical-align: middle;\n",
       "    }\n",
       "\n",
       "    .dataframe tbody tr th {\n",
       "        vertical-align: top;\n",
       "    }\n",
       "\n",
       "    .dataframe thead th {\n",
       "        text-align: right;\n",
       "    }\n",
       "</style>\n",
       "<table border=\"1\" class=\"dataframe\">\n",
       "  <thead>\n",
       "    <tr style=\"text-align: right;\">\n",
       "      <th></th>\n",
       "      <th>0</th>\n",
       "      <th>1</th>\n",
       "      <th>2</th>\n",
       "      <th>3</th>\n",
       "      <th>4</th>\n",
       "      <th>5</th>\n",
       "      <th>6</th>\n",
       "      <th>7</th>\n",
       "      <th>8</th>\n",
       "      <th>9</th>\n",
       "      <th>...</th>\n",
       "      <th>679</th>\n",
       "      <th>680</th>\n",
       "      <th>681</th>\n",
       "      <th>682</th>\n",
       "      <th>683</th>\n",
       "      <th>684</th>\n",
       "      <th>685</th>\n",
       "      <th>686</th>\n",
       "      <th>687</th>\n",
       "      <th>688</th>\n",
       "    </tr>\n",
       "  </thead>\n",
       "  <tbody>\n",
       "    <tr>\n",
       "      <th>0</th>\n",
       "      <td>[0.5439574249642822, 0.36516769730488785]</td>\n",
       "      <td>[0.5103570782170816, 0.36516769730488785]</td>\n",
       "      <td>[0.5103570782170816, 0.5066963736291507]</td>\n",
       "      <td>[0.4943692543946933, 0.5066963736291507]</td>\n",
       "      <td>[0.4943692543946933, 0.4984870146945412]</td>\n",
       "      <td>[0.49532980610223626, 0.4984870146945412]</td>\n",
       "      <td>[0.49532980610223626, 0.4867175673785119]</td>\n",
       "      <td>[0.4918952249257814, 0.4867175673785119]</td>\n",
       "      <td>[0.4918952249257814, 0.49462574058310843]</td>\n",
       "      <td>[0.4945042912642461, 0.49462574058310843]</td>\n",
       "      <td>...</td>\n",
       "      <td>[0.49995249703429345, 0.49949512407315394]</td>\n",
       "      <td>[0.49995249703429345, 0.4995379994220657]</td>\n",
       "      <td>[0.4999485983215743, 0.4995379994220657]</td>\n",
       "      <td>[0.4999485983215743, 0.4996043188373008]</td>\n",
       "      <td>[0.49998475287155986, 0.4996043188373008]</td>\n",
       "      <td>[0.49998475287155986, 0.4997754846540763]</td>\n",
       "      <td>[0.5000047604182865, 0.4997754846540763]</td>\n",
       "      <td>[0.5000047604182865, 0.49978225407531207]</td>\n",
       "      <td>[0.5000246806916521, 0.49978225407531207]</td>\n",
       "      <td>[0.5000246806916521, 0.4997830883377467]</td>\n",
       "    </tr>\n",
       "    <tr>\n",
       "      <th>1</th>\n",
       "      <td>[0.7205078255474788, 0.5387417244444248]</td>\n",
       "      <td>[0.4865401182042827, 0.5387417244444248]</td>\n",
       "      <td>[0.4865401182042827, 0.5380991696687202]</td>\n",
       "      <td>[0.49644155221431135, 0.5380991696687202]</td>\n",
       "      <td>[0.49644155221431135, 0.5198422588965707]</td>\n",
       "      <td>[0.4963021447947035, 0.5198422588965707]</td>\n",
       "      <td>[0.4963021447947035, 0.5067215244573137]</td>\n",
       "      <td>[0.49038445707844974, 0.5067215244573137]</td>\n",
       "      <td>[0.49038445707844974, 0.5102544127633576]</td>\n",
       "      <td>[0.48862046654751107, 0.5102544127633576]</td>\n",
       "      <td>...</td>\n",
       "      <td>[0.5003374300202917, 0.4999124781817351]</td>\n",
       "      <td>[0.5003374300202917, 0.5000696366205637]</td>\n",
       "      <td>[0.5003294529472833, 0.5000696366205637]</td>\n",
       "      <td>[0.5003294529472833, 0.5000756257613634]</td>\n",
       "      <td>[0.5003322421748185, 0.5000756257613634]</td>\n",
       "      <td>[0.5003322421748185, 0.5001811673162493]</td>\n",
       "      <td>[0.5003564295462303, 0.5001811673162493]</td>\n",
       "      <td>[0.5003564295462303, 0.5001369983748245]</td>\n",
       "      <td>[0.5003484982433635, 0.5001369983748245]</td>\n",
       "      <td>[0.5003484982433635, 0.5001673405574193]</td>\n",
       "    </tr>\n",
       "    <tr>\n",
       "      <th>2</th>\n",
       "      <td>[0.44843179580413367, 0.5047415906393982]</td>\n",
       "      <td>[0.4942159051764975, 0.5047415906393982]</td>\n",
       "      <td>[0.4942159051764975, 0.47209047879631433]</td>\n",
       "      <td>[0.4878428061493417, 0.47209047879631433]</td>\n",
       "      <td>[0.4878428061493417, 0.4901869020597186]</td>\n",
       "      <td>[0.4915906308693526, 0.4901869020597186]</td>\n",
       "      <td>[0.4915906308693526, 0.4961475537987223]</td>\n",
       "      <td>[0.49627401277659317, 0.4961475537987223]</td>\n",
       "      <td>[0.49627401277659317, 0.5105143959022733]</td>\n",
       "      <td>[0.49540338906218934, 0.5105143959022733]</td>\n",
       "      <td>...</td>\n",
       "      <td>[0.500712840929288, 0.5003651776793359]</td>\n",
       "      <td>[0.500712840929288, 0.5004930505133719]</td>\n",
       "      <td>[0.5007032095970149, 0.5004930505133719]</td>\n",
       "      <td>[0.5007032095970149, 0.500587737798451]</td>\n",
       "      <td>[0.5007681609308916, 0.500587737798451]</td>\n",
       "      <td>[0.5007681609308916, 0.5007538616000363]</td>\n",
       "      <td>[0.5007977602807007, 0.5007538616000363]</td>\n",
       "      <td>[0.5007977602807007, 0.5007985143511187]</td>\n",
       "      <td>[0.5007960776601857, 0.5007985143511187]</td>\n",
       "      <td>[0.5007960776601857, 0.5007790016799735]</td>\n",
       "    </tr>\n",
       "  </tbody>\n",
       "</table>\n",
       "<p>3 rows × 689 columns</p>\n",
       "</div>"
      ],
      "text/plain": [
       "                                         0     \n",
       "0  [0.5439574249642822, 0.36516769730488785]  \\\n",
       "1   [0.7205078255474788, 0.5387417244444248]   \n",
       "2  [0.44843179580413367, 0.5047415906393982]   \n",
       "\n",
       "                                         1     \n",
       "0  [0.5103570782170816, 0.36516769730488785]  \\\n",
       "1   [0.4865401182042827, 0.5387417244444248]   \n",
       "2   [0.4942159051764975, 0.5047415906393982]   \n",
       "\n",
       "                                         2     \n",
       "0   [0.5103570782170816, 0.5066963736291507]  \\\n",
       "1   [0.4865401182042827, 0.5380991696687202]   \n",
       "2  [0.4942159051764975, 0.47209047879631433]   \n",
       "\n",
       "                                         3     \n",
       "0   [0.4943692543946933, 0.5066963736291507]  \\\n",
       "1  [0.49644155221431135, 0.5380991696687202]   \n",
       "2  [0.4878428061493417, 0.47209047879631433]   \n",
       "\n",
       "                                         4     \n",
       "0   [0.4943692543946933, 0.4984870146945412]  \\\n",
       "1  [0.49644155221431135, 0.5198422588965707]   \n",
       "2   [0.4878428061493417, 0.4901869020597186]   \n",
       "\n",
       "                                         5     \n",
       "0  [0.49532980610223626, 0.4984870146945412]  \\\n",
       "1   [0.4963021447947035, 0.5198422588965707]   \n",
       "2   [0.4915906308693526, 0.4901869020597186]   \n",
       "\n",
       "                                         6     \n",
       "0  [0.49532980610223626, 0.4867175673785119]  \\\n",
       "1   [0.4963021447947035, 0.5067215244573137]   \n",
       "2   [0.4915906308693526, 0.4961475537987223]   \n",
       "\n",
       "                                         7     \n",
       "0   [0.4918952249257814, 0.4867175673785119]  \\\n",
       "1  [0.49038445707844974, 0.5067215244573137]   \n",
       "2  [0.49627401277659317, 0.4961475537987223]   \n",
       "\n",
       "                                         8     \n",
       "0  [0.4918952249257814, 0.49462574058310843]  \\\n",
       "1  [0.49038445707844974, 0.5102544127633576]   \n",
       "2  [0.49627401277659317, 0.5105143959022733]   \n",
       "\n",
       "                                         9    ...   \n",
       "0  [0.4945042912642461, 0.49462574058310843]  ...  \\\n",
       "1  [0.48862046654751107, 0.5102544127633576]  ...   \n",
       "2  [0.49540338906218934, 0.5105143959022733]  ...   \n",
       "\n",
       "                                          679   \n",
       "0  [0.49995249703429345, 0.49949512407315394]  \\\n",
       "1    [0.5003374300202917, 0.4999124781817351]   \n",
       "2     [0.500712840929288, 0.5003651776793359]   \n",
       "\n",
       "                                         680   \n",
       "0  [0.49995249703429345, 0.4995379994220657]  \\\n",
       "1   [0.5003374300202917, 0.5000696366205637]   \n",
       "2    [0.500712840929288, 0.5004930505133719]   \n",
       "\n",
       "                                        681   \n",
       "0  [0.4999485983215743, 0.4995379994220657]  \\\n",
       "1  [0.5003294529472833, 0.5000696366205637]   \n",
       "2  [0.5007032095970149, 0.5004930505133719]   \n",
       "\n",
       "                                        682   \n",
       "0  [0.4999485983215743, 0.4996043188373008]  \\\n",
       "1  [0.5003294529472833, 0.5000756257613634]   \n",
       "2   [0.5007032095970149, 0.500587737798451]   \n",
       "\n",
       "                                         683   \n",
       "0  [0.49998475287155986, 0.4996043188373008]  \\\n",
       "1   [0.5003322421748185, 0.5000756257613634]   \n",
       "2    [0.5007681609308916, 0.500587737798451]   \n",
       "\n",
       "                                         684   \n",
       "0  [0.49998475287155986, 0.4997754846540763]  \\\n",
       "1   [0.5003322421748185, 0.5001811673162493]   \n",
       "2   [0.5007681609308916, 0.5007538616000363]   \n",
       "\n",
       "                                        685   \n",
       "0  [0.5000047604182865, 0.4997754846540763]  \\\n",
       "1  [0.5003564295462303, 0.5001811673162493]   \n",
       "2  [0.5007977602807007, 0.5007538616000363]   \n",
       "\n",
       "                                         686   \n",
       "0  [0.5000047604182865, 0.49978225407531207]  \\\n",
       "1   [0.5003564295462303, 0.5001369983748245]   \n",
       "2   [0.5007977602807007, 0.5007985143511187]   \n",
       "\n",
       "                                         687   \n",
       "0  [0.5000246806916521, 0.49978225407531207]  \\\n",
       "1   [0.5003484982433635, 0.5001369983748245]   \n",
       "2   [0.5007960776601857, 0.5007985143511187]   \n",
       "\n",
       "                                        688  \n",
       "0  [0.5000246806916521, 0.4997830883377467]  \n",
       "1  [0.5003484982433635, 0.5001673405574193]  \n",
       "2  [0.5007960776601857, 0.5007790016799735]  \n",
       "\n",
       "[3 rows x 689 columns]"
      ]
     },
     "execution_count": 4,
     "metadata": {},
     "output_type": "execute_result"
    }
   ],
   "source": [
    "print('steps: ',my_model.n_steps)\n",
    "print('conclusion: ',my_model.conclusion)\n",
    "df.head(3)"
   ]
  },
  {
   "cell_type": "code",
   "execution_count": 5,
   "metadata": {},
   "outputs": [
    {
     "data": {
      "text/plain": [
       "[<matplotlib.lines.Line2D at 0x1338d06a0>]"
      ]
     },
     "execution_count": 5,
     "metadata": {},
     "output_type": "execute_result"
    },
    {
     "data": {
      "image/png": "[encoded data removed]",
      "text/plain": [
       "<Figure size 640x480 with 1 Axes>"
      ]
     },
     "metadata": {},
     "output_type": "display_data"
    }
   ],
   "source": [
    "#Extract the first coordinate (x) for each pair and calculate column-wise mean\n",
    "x_means = df.applymap(lambda pair: pair[0]).mean()\n",
    "y_means = df.applymap(lambda pair: pair[1]).mean()\n",
    "plt.plot(x_means)\n",
    "plt.plot(y_means)"
   ]
  },
  {
   "cell_type": "code",
   "execution_count": 6,
   "metadata": {},
   "outputs": [
    {
     "data": {
      "image/png": "[encoded data removed]",
      "text/plain": [
       "<Figure size 1000x600 with 1 Axes>"
      ]
     },
     "metadata": {},
     "output_type": "display_data"
    }
   ],
   "source": [
    "# Extract the first coordinate (x) for each pair\n",
    "x_values = df.applymap(lambda pair: pair[0])\n",
    "\n",
    "# Plot the first coordinate for each row\n",
    "plt.figure(figsize=(10, 6))\n",
    "for row_idx in range(x_values.shape[0]):\n",
    "    plt.plot(x_values.columns, x_values.iloc[row_idx, :], label=f'Row {row_idx+1}' if row_idx < 5 else None)"
   ]
  },
  {
   "cell_type": "code",
   "execution_count": null,
   "metadata": {},
   "outputs": [],
   "source": []
  }
 ],
 "metadata": {
  "kernelspec": {
   "display_name": "Python 3",
   "language": "python",
   "name": "python3"
  },
  "language_info": {
   "codemirror_mode": {
    "name": "ipython",
    "version": 3
   },
   "file_extension": ".py",
   "mimetype": "text/x-python",
   "name": "python",
   "nbconvert_exporter": "python",
   "pygments_lexer": "ipython3",
   "version": "3.10.7"
  }
 },
 "nbformat": 4,
 "nbformat_minor": 2
}
