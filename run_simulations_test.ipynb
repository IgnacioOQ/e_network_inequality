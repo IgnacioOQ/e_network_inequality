{
 "cells": [
  {
   "cell_type": "code",
   "execution_count": 1,
   "metadata": {},
   "outputs": [],
   "source": [
    "from imports import *\n",
    "from agents import BetaAgent\n",
    "from model import Model\n",
    "from network_utils import *\n",
    "from network_randomization import *\n",
    "from network_generation import *\n",
    "from simulation_functions import *"
   ]
  },
  {
   "cell_type": "markdown",
   "metadata": {},
   "source": [
    "# Testing"
   ]
  },
  {
   "cell_type": "code",
   "execution_count": 2,
   "metadata": {},
   "outputs": [
    {
     "name": "stdout",
     "output_type": "stream",
     "text": [
      "4\n"
     ]
    },
    {
     "name": "stderr",
     "output_type": "stream",
     "text": [
      "100%|██████████| 100/100 [00:03<00:00, 25.02it/s]\n"
     ]
    }
   ],
   "source": [
    "n_simulations = 100\n",
    "G_default = barabasi_albert_directed(100,5)\n",
    "\n",
    "num_cores = cpu_count()  # Get the number of available CPU cores\n",
    "print(num_cores)\n",
    "\n",
    "# Define a partial function to pass G_perceptron to generate_parameters_empir\n",
    "# This ensures that generate_parameters_empir is called with the correct argument within the pool\n",
    "# The 'partial' function allows you to create a new function with some of the arguments pre-filled.\n",
    "from functools import partial\n",
    "generate_params_with_G = partial(generate_parameters, G=G_default)\n",
    "\n",
    "with Pool(num_cores) as pool:\n",
    "    # Use tqdm to display a progress bar\n",
    "    # Now, 'generate_params_with_G' is the function that will be executed by each worker.\n",
    "    # Each worker will receive an index from 'range(n_simulations)' as its argument,\n",
    "    # which is ignored in 'generate_params_with_G' but is required by the 'imap_unordered' function.\n",
    "    param_dict = list(tqdm.tqdm(pool.imap_unordered(generate_params_with_G, range(n_simulations)), total=n_simulations))"
   ]
  },
  {
   "cell_type": "code",
   "execution_count": 3,
   "metadata": {},
   "outputs": [
    {
     "name": "stdout",
     "output_type": "stream",
     "text": [
      "100\n"
     ]
    },
    {
     "data": {
      "text/plain": [
       "{'randomized': True,\n",
       " 'unique_id': 'e1ef1f1fc9234671910e191333c344f8',\n",
       " 'n_agents': 100,\n",
       " 'network': <networkx.classes.digraph.DiGraph at 0x1350a7c90>,\n",
       " 'uncertainty': 0.002452944622785744,\n",
       " 'n_experiments': 1,\n",
       " 'p_rewiring': 0.1428470602645185,\n",
       " 'average_degree': 4.85,\n",
       " 'degree_gini_coefficient': np.float64(0.7341649484536084),\n",
       " 'approx_average_clustering_coefficient': 0.1769603529043353,\n",
       " 'degree_entropy': np.float64(2.123990312382749)}"
      ]
     },
     "execution_count": 3,
     "metadata": {},
     "output_type": "execute_result"
    }
   ],
   "source": [
    "print(len(param_dict))\n",
    "param_dict[0]"
   ]
  },
  {
   "cell_type": "code",
   "execution_count": 4,
   "metadata": {},
   "outputs": [
    {
     "name": "stderr",
     "output_type": "stream",
     "text": [
      "Running simulations:   0%|          | 0/100 [00:00<?, ?it/s]"
     ]
    }
   ],
   "source": [
    "# Run simulations in parallel\n",
    "with Pool(num_cores) as pool:\n",
    "    simulation_results = list(tqdm.tqdm(pool.imap_unordered(run_simulation_wrapper, param_dict),\n",
    "                                        total=len(param_dict), desc=\"Running simulations\"))\n",
    "\n",
    "# Convert results to a DataFrame\n",
    "basic_results_df = pd.DataFrame(simulation_results)\n",
    "display(basic_results_df)"
   ]
  },
  {
   "cell_type": "code",
   "execution_count": null,
   "metadata": {},
   "outputs": [],
   "source": [
    "basic_results_df.to_csv(\"basic_results_df.csv\", index=False)  # Saves without index"
   ]
  },
  {
   "cell_type": "markdown",
   "metadata": {},
   "source": [
    "# Basic Plotting"
   ]
  },
  {
   "cell_type": "code",
   "execution_count": null,
   "metadata": {},
   "outputs": [],
   "source": [
    "rename_dict = {\n",
    "    'n_agents': 'Number of Agents',\n",
    "    'p_rewiring': 'Probability of Rewiring',\n",
    "    'uncertainty': 'Problem Easiness',\n",
    "    'n_experiments': 'Number of Experiments',\n",
    "    'share_of_correct_agents_at_convergence': 'Share of correct agents', # is this CORRECT ?!!?!?!?\n",
    "    #'share_of_correct_agents_at_convergence':'Share of correct agents',\n",
    "    'mean_degree': 'Mean Degree',\n",
    "    'ba_degree':'BA-Degree',\n",
    "    'convergence_step': 'Steps until convergence (log)',\n",
    "    'approx_average_clustering_coefficient':'Clustering Coeff.',\n",
    "    'average_degree': 'Average Degree',\n",
    "    'degree_gini_coefficient': 'Degree Gini Coeff.',\n",
    "    'diameter': 'Diameter',\n",
    "\n",
    "}"
   ]
  },
  {
   "cell_type": "code",
   "execution_count": null,
   "metadata": {},
   "outputs": [],
   "source": [
    "X = basic_results_df[['n_agents','mean_degree',\t'degree_gini_coefficient'\t,'approx_average_clustering_coefficient',\n",
    "                           'diameter',\t'uncertainty',\t'n_experiments','p_rewiring','in_entropy','out_entropy']]\n",
    "y = pd.DataFrame(basic_results_df['share_of_correct_agents_at_convergence'])\n",
    "X.rename(columns=rename_dict, inplace=True)\n",
    "y.rename(columns=rename_dict, inplace=True)\n",
    "\n",
    "plot_scatter_matrix(X, y, max_cols=3, filename='test',hex_colors=['#d9d9d9','#ab0b00'])"
   ]
  }
 ],
 "metadata": {
  "kernelspec": {
   "display_name": "Python 3",
   "language": "python",
   "name": "python3"
  },
  "language_info": {
   "codemirror_mode": {
    "name": "ipython",
    "version": 3
   },
   "file_extension": ".py",
   "mimetype": "text/x-python",
   "name": "python",
   "nbconvert_exporter": "python",
   "pygments_lexer": "ipython3",
   "version": "3.11.11"
  }
 },
 "nbformat": 4,
 "nbformat_minor": 2
}
