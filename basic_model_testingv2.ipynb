{
 "cells": [
  {
   "cell_type": "markdown",
   "metadata": {},
   "source": [
    "# Basic Testing\n",
    "\n",
    "In this notebook we test that the main files work well."
   ]
  },
  {
   "cell_type": "code",
   "execution_count": 1,
   "metadata": {},
   "outputs": [],
   "source": [
    "from imports import *\n",
    "from agents import BetaAgent\n",
    "from model import Model"
   ]
  },
  {
   "cell_type": "code",
   "execution_count": null,
   "metadata": {},
   "outputs": [],
   "source": [
    "prior_T1 = np.random.uniform(0, 4, size=2)\n",
    "mean_T1, var_T1 = beta.stats(prior_T1[0], prior_T1[1], moments='mv')\n",
    "print(mean_T1, var_T1)"
   ]
  },
  {
   "cell_type": "markdown",
   "metadata": {},
   "source": [
    "# 2. First Test"
   ]
  },
  {
   "cell_type": "code",
   "execution_count": 4,
   "metadata": {},
   "outputs": [
    {
     "name": "stderr",
     "output_type": "stream",
     "text": [
      " 30%|███       | 3026/10000 [03:25<07:54, 14.69it/s]\n"
     ]
    },
    {
     "ename": "KeyboardInterrupt",
     "evalue": "",
     "output_type": "error",
     "traceback": [
      "\u001b[0;31m---------------------------------------------------------------------------\u001b[0m",
      "\u001b[0;31mKeyboardInterrupt\u001b[0m                         Traceback (most recent call last)",
      "Cell \u001b[0;32mIn[4], line 6\u001b[0m\n\u001b[1;32m      3\u001b[0m nx\u001b[38;5;241m.\u001b[39mcomplete_graph(n_agents) \u001b[38;5;66;03m#create_hybrid_network(20,degree=5,p_preferential_attachment=.01)#nx.erdos_renyi_graph(n_agents, 0.009)\\n\",\u001b[39;00m\n\u001b[1;32m      4\u001b[0m my_model \u001b[38;5;241m=\u001b[39m Model(my_network, n_experiments\u001b[38;5;241m=\u001b[39m\u001b[38;5;241m30\u001b[39m, uncertainty\u001b[38;5;241m=\u001b[39m\u001b[38;5;241m0.001\u001b[39m,\n\u001b[1;32m      5\u001b[0m                  histories\u001b[38;5;241m=\u001b[39m\u001b[38;5;28;01mTrue\u001b[39;00m,sampling_update\u001b[38;5;241m=\u001b[39m\u001b[38;5;28;01mTrue\u001b[39;00m)\n\u001b[0;32m----> 6\u001b[0m \u001b[43mmy_model\u001b[49m\u001b[38;5;241;43m.\u001b[39;49m\u001b[43mrun_simulation\u001b[49m\u001b[43m(\u001b[49m\u001b[43mnumber_of_steps\u001b[49m\u001b[38;5;241;43m=\u001b[39;49m\u001b[38;5;241;43m10000\u001b[39;49m\u001b[43m,\u001b[49m\u001b[43mshow_bar\u001b[49m\u001b[38;5;241;43m=\u001b[39;49m\u001b[38;5;28;43;01mTrue\u001b[39;49;00m\u001b[43m)\u001b[49m \u001b[38;5;66;03m#number_of_steps is a max amount\\n\",\u001b[39;00m\n\u001b[1;32m      7\u001b[0m \u001b[38;5;28mprint\u001b[39m(\u001b[38;5;124m'\u001b[39m\u001b[38;5;124msteps: \u001b[39m\u001b[38;5;124m'\u001b[39m,my_model\u001b[38;5;241m.\u001b[39mn_steps)\n\u001b[1;32m      8\u001b[0m df \u001b[38;5;241m=\u001b[39m pd\u001b[38;5;241m.\u001b[39mDataFrame(my_model\u001b[38;5;241m.\u001b[39magent_histories)\n",
      "File \u001b[0;32m~/GitRepositories/e_network_inequality/model.py:104\u001b[0m, in \u001b[0;36mModel.run_simulation\u001b[0;34m(self, number_of_steps, show_bar, *args, **kwargs)\u001b[0m\n\u001b[1;32m    102\u001b[0m \u001b[38;5;28;01mfor\u001b[39;00m _ \u001b[38;5;129;01min\u001b[39;00m iterable:\n\u001b[1;32m    103\u001b[0m     betas_prior \u001b[38;5;241m=\u001b[39m np\u001b[38;5;241m.\u001b[39marray([agent\u001b[38;5;241m.\u001b[39malphas_betas \u001b[38;5;28;01mfor\u001b[39;00m agent \u001b[38;5;129;01min\u001b[39;00m \u001b[38;5;28mself\u001b[39m\u001b[38;5;241m.\u001b[39magents])\n\u001b[0;32m--> 104\u001b[0m     credences_prior \u001b[38;5;241m=\u001b[39m np\u001b[38;5;241m.\u001b[39marray([agent\u001b[38;5;241m.\u001b[39mcredences \u001b[38;5;28;01mfor\u001b[39;00m agent \u001b[38;5;129;01min\u001b[39;00m \u001b[38;5;28mself\u001b[39m\u001b[38;5;241m.\u001b[39magents])\n\u001b[1;32m    107\u001b[0m     \u001b[38;5;28mself\u001b[39m\u001b[38;5;241m.\u001b[39mstep()\n\u001b[1;32m    110\u001b[0m     betas_post \u001b[38;5;241m=\u001b[39m np\u001b[38;5;241m.\u001b[39marray([agent\u001b[38;5;241m.\u001b[39malphas_betas \u001b[38;5;28;01mfor\u001b[39;00m agent \u001b[38;5;129;01min\u001b[39;00m \u001b[38;5;28mself\u001b[39m\u001b[38;5;241m.\u001b[39magents])\n",
      "File \u001b[0;32m~/GitRepositories/e_network_inequality/model.py:127\u001b[0m, in \u001b[0;36mstep\u001b[0;34m(self)\u001b[0m\n\u001b[1;32m    126\u001b[0m \u001b[38;5;28;01mdef\u001b[39;00m\u001b[38;5;250m \u001b[39m\u001b[38;5;21mstep\u001b[39m(\u001b[38;5;28mself\u001b[39m):\n\u001b[0;32m--> 127\u001b[0m \u001b[38;5;250m    \u001b[39m\u001b[38;5;124;03m\"\"\"Updates the model with one step, consisting of experiments and updates.\"\"\"\u001b[39;00m\n\u001b[1;32m    128\u001b[0m     \u001b[38;5;28mself\u001b[39m\u001b[38;5;241m.\u001b[39mn_steps\u001b[38;5;241m+\u001b[39m\u001b[38;5;241m=\u001b[39m\u001b[38;5;241m1\u001b[39m\n\u001b[1;32m    129\u001b[0m     experiments_results \u001b[38;5;241m=\u001b[39m \u001b[38;5;28mself\u001b[39m\u001b[38;5;241m.\u001b[39magents_experiment()\n",
      "File \u001b[0;32m~/GitRepositories/e_network_inequality/model.py:159\u001b[0m, in \u001b[0;36magents_update\u001b[0;34m(self, experiments_results)\u001b[0m\n\u001b[1;32m    157\u001b[0m     theory_index \u001b[38;5;241m=\u001b[39m results[\u001b[38;5;241m0\u001b[39m]\n\u001b[1;32m    158\u001b[0m     theories_exp_results[theory_index][\u001b[38;5;241m0\u001b[39m]\u001b[38;5;241m+\u001b[39m\u001b[38;5;241m=\u001b[39mresults[\u001b[38;5;241m1\u001b[39m] \u001b[38;5;66;03m#n_success\u001b[39;00m\n\u001b[0;32m--> 159\u001b[0m     theories_exp_results[theory_index][\u001b[38;5;241m1\u001b[39m]\u001b[38;5;241m+\u001b[39m\u001b[38;5;241m=\u001b[39mresults[\u001b[38;5;241m2\u001b[39m] \u001b[38;5;66;03m#n_failures\u001b[39;00m\n\u001b[1;32m    161\u001b[0m \u001b[38;5;66;03m# update\u001b[39;00m\n\u001b[1;32m    162\u001b[0m agent\u001b[38;5;241m.\u001b[39mbeta_update(\u001b[38;5;241m0\u001b[39m,theories_exp_results[\u001b[38;5;241m0\u001b[39m][\u001b[38;5;241m0\u001b[39m], theories_exp_results[\u001b[38;5;241m0\u001b[39m][\u001b[38;5;241m1\u001b[39m])\n",
      "File \u001b[0;32m~/GitRepositories/e_network_inequality/agents.py:159\u001b[0m, in \u001b[0;36mBetaAgent.beta_update\u001b[0;34m(self, theory_index, n_success, n_failures)\u001b[0m\n\u001b[1;32m    156\u001b[0m beta_param \u001b[38;5;241m=\u001b[39m \u001b[38;5;28mself\u001b[39m\u001b[38;5;241m.\u001b[39malphas_betas[theory_index][\u001b[38;5;241m1\u001b[39m]  \u001b[38;5;66;03m# Avoid using 'beta' as it conflicts with scipy.stats.beta\u001b[39;00m\n\u001b[1;32m    158\u001b[0m new_credences \u001b[38;5;241m=\u001b[39m \u001b[38;5;28mself\u001b[39m\u001b[38;5;241m.\u001b[39mcredences\u001b[38;5;241m.\u001b[39mcopy()\n\u001b[0;32m--> 159\u001b[0m estimate \u001b[38;5;241m=\u001b[39m \u001b[43mbeta\u001b[49m\u001b[38;5;241;43m.\u001b[39;49m\u001b[43mstats\u001b[49m\u001b[43m(\u001b[49m\u001b[43malpha\u001b[49m\u001b[43m,\u001b[49m\u001b[43m \u001b[49m\u001b[43mbeta_param\u001b[49m\u001b[43m,\u001b[49m\u001b[43m \u001b[49m\u001b[43mmoments\u001b[49m\u001b[38;5;241;43m=\u001b[39;49m\u001b[38;5;124;43m'\u001b[39;49m\u001b[38;5;124;43mm\u001b[39;49m\u001b[38;5;124;43m'\u001b[39;49m\u001b[43m)\u001b[49m\n\u001b[1;32m    160\u001b[0m \u001b[38;5;28;01mif\u001b[39;00m \u001b[38;5;28mself\u001b[39m\u001b[38;5;241m.\u001b[39msampling_update:\n\u001b[1;32m    161\u001b[0m   estimate \u001b[38;5;241m=\u001b[39m beta\u001b[38;5;241m.\u001b[39mrvs(alpha, beta_param, size\u001b[38;5;241m=\u001b[39m\u001b[38;5;241m1\u001b[39m)\n",
      "File \u001b[0;32m~/GitRepositories/e_network_inequality/.conda/lib/python3.11/site-packages/scipy/stats/_distn_infrastructure.py:1177\u001b[0m, in \u001b[0;36mrv_generic.stats\u001b[0;34m(self, *args, **kwds)\u001b[0m\n\u001b[1;32m   1175\u001b[0m         mu \u001b[38;5;241m=\u001b[39m \u001b[38;5;28mself\u001b[39m\u001b[38;5;241m.\u001b[39m_munp(\u001b[38;5;241m1\u001b[39m, \u001b[38;5;241m*\u001b[39mgoodargs)\n\u001b[1;32m   1176\u001b[0m     out0 \u001b[38;5;241m=\u001b[39m default\u001b[38;5;241m.\u001b[39mcopy()\n\u001b[0;32m-> 1177\u001b[0m     \u001b[43mplace\u001b[49m\u001b[43m(\u001b[49m\u001b[43mout0\u001b[49m\u001b[43m,\u001b[49m\u001b[43m \u001b[49m\u001b[43mcond\u001b[49m\u001b[43m,\u001b[49m\u001b[43m \u001b[49m\u001b[43mmu\u001b[49m\u001b[43m \u001b[49m\u001b[38;5;241;43m*\u001b[39;49m\u001b[43m \u001b[49m\u001b[43mscale\u001b[49m\u001b[43m \u001b[49m\u001b[38;5;241;43m+\u001b[39;49m\u001b[43m \u001b[49m\u001b[43mloc\u001b[49m\u001b[43m)\u001b[49m\n\u001b[1;32m   1178\u001b[0m     output\u001b[38;5;241m.\u001b[39mappend(out0)\n\u001b[1;32m   1180\u001b[0m \u001b[38;5;28;01mif\u001b[39;00m \u001b[38;5;124m'\u001b[39m\u001b[38;5;124mv\u001b[39m\u001b[38;5;124m'\u001b[39m \u001b[38;5;129;01min\u001b[39;00m moments:\n",
      "\u001b[0;31mKeyboardInterrupt\u001b[0m: "
     ]
    }
   ],
   "source": [
    "n_agents = 100\n",
    "my_network = G = nx.gnp_random_graph(n_agents, p=0.4, directed=True)\n",
    "nx.complete_graph(n_agents) #create_hybrid_network(20,degree=5,p_preferential_attachment=.01)#nx.erdos_renyi_graph(n_agents, 0.009)\\n\",\n",
    "my_model = Model(my_network, n_experiments=30, uncertainty=0.001,\n",
    "                 histories=True,sampling_update=False)\n",
    "my_model.run_simulation(number_of_steps=10000,show_bar=True) #number_of_steps is a max amount\\n\",\n",
    "print('steps: ',my_model.n_steps)\n",
    "df = pd.DataFrame(my_model.agent_histories)\n",
    "df.info()"
   ]
  }
 ],
 "metadata": {
  "kernelspec": {
   "display_name": "Python 3",
   "language": "python",
   "name": "python3"
  },
  "language_info": {
   "codemirror_mode": {
    "name": "ipython",
    "version": 3
   },
   "file_extension": ".py",
   "mimetype": "text/x-python",
   "name": "python",
   "nbconvert_exporter": "python",
   "pygments_lexer": "ipython3",
   "version": "3.11.11"
  }
 },
 "nbformat": 4,
 "nbformat_minor": 2
}
