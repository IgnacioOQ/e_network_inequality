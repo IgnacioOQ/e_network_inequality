{
 "cells": [
  {
   "cell_type": "markdown",
   "metadata": {},
   "source": [
    "# Basic Testing\n",
    "\n",
    "In this notebook we test that the main files work well."
   ]
  },
  {
   "cell_type": "code",
   "execution_count": 1,
   "metadata": {},
   "outputs": [],
   "source": [
    "from imports import *\n",
    "from agents import BetaAgent\n",
    "from model import Model"
   ]
  },
  {
   "cell_type": "markdown",
   "metadata": {},
   "source": [
    "# 2. First Test"
   ]
  },
  {
   "cell_type": "code",
   "execution_count": 2,
   "metadata": {},
   "outputs": [
    {
     "name": "stderr",
     "output_type": "stream",
     "text": [
      "  9%|▊         | 859/10000 [01:04<11:22, 13.39it/s]\n"
     ]
    },
    {
     "name": "stdout",
     "output_type": "stream",
     "text": [
      "steps:  860\n",
      "<class 'pandas.core.frame.DataFrame'>\n",
      "RangeIndex: 100 entries, 0 to 99\n",
      "Columns: 1721 entries, 0 to 1720\n",
      "dtypes: object(1721)\n",
      "memory usage: 1.3+ MB\n"
     ]
    }
   ],
   "source": [
    "n_agents = 100\n",
    "my_network = G = nx.gnp_random_graph(n_agents, p=0.4, directed=True)\n",
    "nx.complete_graph(n_agents) #create_hybrid_network(20,degree=5,p_preferential_attachment=.01)#nx.erdos_renyi_graph(n_agents, 0.009)\\n\",\n",
    "my_model = Model(my_network, n_experiments=30, uncertainty=0.001,\n",
    "                 histories=True,sampling_update=False,variance_stopping = True)\n",
    "my_model.run_simulation(number_of_steps=10000,show_bar=True) #number_of_steps is a max amount\\n\",\n",
    "print('steps: ',my_model.n_steps)\n",
    "df = pd.DataFrame(my_model.agent_histories)\n",
    "df.info()"
   ]
  }
 ],
 "metadata": {
  "kernelspec": {
   "display_name": "Python 3",
   "language": "python",
   "name": "python3"
  },
  "language_info": {
   "codemirror_mode": {
    "name": "ipython",
    "version": 3
   },
   "file_extension": ".py",
   "mimetype": "text/x-python",
   "name": "python",
   "nbconvert_exporter": "python",
   "pygments_lexer": "ipython3",
   "version": "3.11.11"
  }
 },
 "nbformat": 4,
 "nbformat_minor": 2
}
