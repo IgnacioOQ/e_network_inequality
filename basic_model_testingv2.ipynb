{
 "cells": [
  {
   "cell_type": "markdown",
   "metadata": {},
   "source": [
    "# Basic Testing\n",
    "\n",
    "In this notebook we test that the main files work well."
   ]
  },
  {
   "cell_type": "code",
   "execution_count": 1,
   "metadata": {},
   "outputs": [],
   "source": [
    "from imports import *\n",
    "from agents import BetaAgent\n",
    "from model import Model"
   ]
  },
  {
   "cell_type": "markdown",
   "metadata": {},
   "source": [
    "# 2. First Test"
   ]
  },
  {
   "cell_type": "code",
   "execution_count": 2,
   "metadata": {},
   "outputs": [
    {
     "name": "stderr",
     "output_type": "stream",
     "text": [
      " 53%|█████▎    | 5302/10000 [05:47<05:07, 15.26it/s]\n"
     ]
    },
    {
     "ename": "KeyboardInterrupt",
     "evalue": "",
     "output_type": "error",
     "traceback": [
      "\u001b[0;31m---------------------------------------------------------------------------\u001b[0m",
      "\u001b[0;31mKeyboardInterrupt\u001b[0m                         Traceback (most recent call last)",
      "Cell \u001b[0;32mIn[2], line 5\u001b[0m\n\u001b[1;32m      3\u001b[0m nx\u001b[38;5;241m.\u001b[39mcomplete_graph(n_agents) \u001b[38;5;66;03m#create_hybrid_network(20,degree=5,p_preferential_attachment=.01)#nx.erdos_renyi_graph(n_agents, 0.009)\\n\",\u001b[39;00m\n\u001b[1;32m      4\u001b[0m my_model \u001b[38;5;241m=\u001b[39m Model(my_network, n_experiments\u001b[38;5;241m=\u001b[39m\u001b[38;5;241m30\u001b[39m, uncertainty\u001b[38;5;241m=\u001b[39m\u001b[38;5;241m0.001\u001b[39m,histories\u001b[38;5;241m=\u001b[39m\u001b[38;5;28;01mTrue\u001b[39;00m,sampling_update\u001b[38;5;241m=\u001b[39m\u001b[38;5;28;01mTrue\u001b[39;00m)\n\u001b[0;32m----> 5\u001b[0m \u001b[43mmy_model\u001b[49m\u001b[38;5;241;43m.\u001b[39;49m\u001b[43mrun_simulation\u001b[49m\u001b[43m(\u001b[49m\u001b[43mnumber_of_steps\u001b[49m\u001b[38;5;241;43m=\u001b[39;49m\u001b[38;5;241;43m10000\u001b[39;49m\u001b[43m,\u001b[49m\u001b[43mshow_bar\u001b[49m\u001b[38;5;241;43m=\u001b[39;49m\u001b[38;5;28;43;01mTrue\u001b[39;49;00m\u001b[43m)\u001b[49m \u001b[38;5;66;03m#number_of_steps is a max amount\\n\",\u001b[39;00m\n\u001b[1;32m      6\u001b[0m \u001b[38;5;28mprint\u001b[39m(\u001b[38;5;124m'\u001b[39m\u001b[38;5;124msteps: \u001b[39m\u001b[38;5;124m'\u001b[39m,my_model\u001b[38;5;241m.\u001b[39mn_steps)\n\u001b[1;32m      7\u001b[0m df \u001b[38;5;241m=\u001b[39m pd\u001b[38;5;241m.\u001b[39mDataFrame(my_model\u001b[38;5;241m.\u001b[39magent_histories)\n",
      "File \u001b[0;32m~/GitRepositories/e_network_inequality/model.py:104\u001b[0m, in \u001b[0;36mModel.run_simulation\u001b[0;34m(self, number_of_steps, show_bar, *args, **kwargs)\u001b[0m\n\u001b[1;32m    102\u001b[0m \u001b[38;5;28;01mfor\u001b[39;00m _ \u001b[38;5;129;01min\u001b[39;00m iterable:\n\u001b[1;32m    103\u001b[0m     credences_prior \u001b[38;5;241m=\u001b[39m np\u001b[38;5;241m.\u001b[39marray([agent\u001b[38;5;241m.\u001b[39mcredences \u001b[38;5;28;01mfor\u001b[39;00m agent \u001b[38;5;129;01min\u001b[39;00m \u001b[38;5;28mself\u001b[39m\u001b[38;5;241m.\u001b[39magents])\n\u001b[0;32m--> 104\u001b[0m     \u001b[38;5;28;43mself\u001b[39;49m\u001b[38;5;241;43m.\u001b[39;49m\u001b[43mstep\u001b[49m\u001b[43m(\u001b[49m\u001b[43m)\u001b[49m\n\u001b[1;32m    105\u001b[0m     credences_post \u001b[38;5;241m=\u001b[39m np\u001b[38;5;241m.\u001b[39marray([agent\u001b[38;5;241m.\u001b[39mcredences \u001b[38;5;28;01mfor\u001b[39;00m agent \u001b[38;5;129;01min\u001b[39;00m \u001b[38;5;28mself\u001b[39m\u001b[38;5;241m.\u001b[39magents])\n\u001b[1;32m    106\u001b[0m     \u001b[38;5;66;03m# if not alternative_stop:\u001b[39;00m\n\u001b[1;32m    107\u001b[0m     \u001b[38;5;66;03m#     if alternative_stop_condition(credences_prior, credences_post):\u001b[39;00m\n\u001b[1;32m    108\u001b[0m     \u001b[38;5;66;03m#         alternative_stop = True\u001b[39;00m\n\u001b[1;32m    109\u001b[0m     \u001b[38;5;66;03m#         self.conclusion_alternative_stop = true_consensus_condition(\u001b[39;00m\n\u001b[1;32m    110\u001b[0m     \u001b[38;5;66;03m#             credences_post\u001b[39;00m\n\u001b[1;32m    111\u001b[0m     \u001b[38;5;66;03m#         )\u001b[39;00m\n",
      "File \u001b[0;32m~/GitRepositories/e_network_inequality/model.py:126\u001b[0m, in \u001b[0;36mModel.step\u001b[0;34m(self)\u001b[0m\n\u001b[1;32m    124\u001b[0m \u001b[38;5;250m\u001b[39m\u001b[38;5;124;03m\"\"\"Updates the model with one step, consisting of experiments and updates.\"\"\"\u001b[39;00m\n\u001b[1;32m    125\u001b[0m \u001b[38;5;28mself\u001b[39m\u001b[38;5;241m.\u001b[39mn_steps\u001b[38;5;241m+\u001b[39m\u001b[38;5;241m=\u001b[39m\u001b[38;5;241m1\u001b[39m\n\u001b[0;32m--> 126\u001b[0m experiments_results \u001b[38;5;241m=\u001b[39m \u001b[38;5;28;43mself\u001b[39;49m\u001b[38;5;241;43m.\u001b[39;49m\u001b[43magents_experiment\u001b[49m\u001b[43m(\u001b[49m\u001b[43m)\u001b[49m\n\u001b[1;32m    127\u001b[0m \u001b[38;5;28mself\u001b[39m\u001b[38;5;241m.\u001b[39magents_update(experiments_results)\n",
      "File \u001b[0;32m~/GitRepositories/e_network_inequality/model.py:132\u001b[0m, in \u001b[0;36mModel.agents_experiment\u001b[0;34m(self)\u001b[0m\n\u001b[1;32m    130\u001b[0m experiments_results \u001b[38;5;241m=\u001b[39m {}\n\u001b[1;32m    131\u001b[0m \u001b[38;5;28;01mfor\u001b[39;00m agent \u001b[38;5;129;01min\u001b[39;00m \u001b[38;5;28mself\u001b[39m\u001b[38;5;241m.\u001b[39magents:\n\u001b[0;32m--> 132\u001b[0m     theory_index, n_success, n_failures \u001b[38;5;241m=\u001b[39m \u001b[43magent\u001b[49m\u001b[38;5;241;43m.\u001b[39;49m\u001b[43mexperiment\u001b[49m\u001b[43m(\u001b[49m\u001b[38;5;28;43mself\u001b[39;49m\u001b[38;5;241;43m.\u001b[39;49m\u001b[43mn_experiments\u001b[49m\u001b[43m)\u001b[49m\n\u001b[1;32m    133\u001b[0m     experiments_results[agent\u001b[38;5;241m.\u001b[39mid]\u001b[38;5;241m=\u001b[39m[theory_index, n_success, n_failures]\n\u001b[1;32m    134\u001b[0m \u001b[38;5;66;03m# print('experiments done')\u001b[39;00m\n",
      "File \u001b[0;32m~/GitRepositories/e_network_inequality/agents.py:135\u001b[0m, in \u001b[0;36mexperiment\u001b[0;34m(self, n_experiments)\u001b[0m\n\u001b[1;32m    124\u001b[0m \u001b[38;5;28;01mdef\u001b[39;00m\u001b[38;5;250m \u001b[39m\u001b[38;5;21mexperiment\u001b[39m(\u001b[38;5;28mself\u001b[39m, n_experiments: \u001b[38;5;28mint\u001b[39m):\n\u001b[1;32m    125\u001b[0m \u001b[38;5;250m    \u001b[39m\u001b[38;5;124;03m\"\"\"\u001b[39;00m\n\u001b[1;32m    126\u001b[0m \u001b[38;5;124;03m    Runs an experiment on the selected theory.\u001b[39;00m\n\u001b[1;32m    127\u001b[0m \u001b[38;5;124;03m    \u001b[39;00m\n\u001b[1;32m    128\u001b[0m \u001b[38;5;124;03m    Parameters:\u001b[39;00m\n\u001b[1;32m    129\u001b[0m \u001b[38;5;124;03m    - n_experiments (int): Number of experiments to perform.\u001b[39;00m\n\u001b[1;32m    130\u001b[0m \u001b[38;5;124;03m    \u001b[39;00m\n\u001b[1;32m    131\u001b[0m \u001b[38;5;124;03m    Returns:\u001b[39;00m\n\u001b[1;32m    132\u001b[0m \u001b[38;5;124;03m    - theory_index (int): The index of the selected theory.\u001b[39;00m\n\u001b[1;32m    133\u001b[0m \u001b[38;5;124;03m    - n_success (int): The number of successful experiments.\u001b[39;00m\n\u001b[1;32m    134\u001b[0m \u001b[38;5;124;03m    - n_failures (int): The number of failed experiments.\u001b[39;00m\n\u001b[0;32m--> 135\u001b[0m \u001b[38;5;124;03m    \"\"\"\u001b[39;00m\n\u001b[1;32m    136\u001b[0m     theory_index \u001b[38;5;241m=\u001b[39m \u001b[38;5;28mself\u001b[39m\u001b[38;5;241m.\u001b[39mgreedy_choice()\n\u001b[1;32m    137\u001b[0m     n_success, n_experiments \u001b[38;5;241m=\u001b[39m \u001b[38;5;28mself\u001b[39m\u001b[38;5;241m.\u001b[39mbandit\u001b[38;5;241m.\u001b[39mexperiment(theory_index, n_experiments)\n",
      "File \u001b[0;32m~/GitRepositories/e_network_inequality/agents.py:120\u001b[0m, in \u001b[0;36mgreedy_choice\u001b[0;34m(self)\u001b[0m\n\u001b[1;32m    112\u001b[0m \u001b[38;5;250m\u001b[39m\u001b[38;5;124;03m\"\"\"\u001b[39;00m\n\u001b[1;32m    113\u001b[0m \u001b[38;5;124;03mSelects the theory with the highest credence.\u001b[39;00m\n\u001b[1;32m    114\u001b[0m \u001b[38;5;124;03mIf multiple theories have the same maximum credence, a random one is chosen.\u001b[39;00m\n\u001b[0;32m   (...)\u001b[0m\n\u001b[1;32m    117\u001b[0m \u001b[38;5;124;03m- best_theory_index (int): The index of the chosen theory.\u001b[39;00m\n\u001b[1;32m    118\u001b[0m \u001b[38;5;124;03m\"\"\"\u001b[39;00m\n\u001b[1;32m    119\u001b[0m max_value \u001b[38;5;241m=\u001b[39m np\u001b[38;5;241m.\u001b[39mmax(\u001b[38;5;28mself\u001b[39m\u001b[38;5;241m.\u001b[39mcredences)\n\u001b[0;32m--> 120\u001b[0m max_indices \u001b[38;5;241m=\u001b[39m np\u001b[38;5;241m.\u001b[39mwhere(\u001b[38;5;28mself\u001b[39m\u001b[38;5;241m.\u001b[39mcredences \u001b[38;5;241m==\u001b[39m max_value)[\u001b[38;5;241m0\u001b[39m]\n\u001b[1;32m    121\u001b[0m best_theory_index \u001b[38;5;241m=\u001b[39m np\u001b[38;5;241m.\u001b[39mrandom\u001b[38;5;241m.\u001b[39mchoice(max_indices)\n\u001b[1;32m    122\u001b[0m \u001b[38;5;28;01mreturn\u001b[39;00m best_theory_index\n",
      "\u001b[0;31mKeyboardInterrupt\u001b[0m: "
     ]
    }
   ],
   "source": [
    "n_agents = 100\n",
    "my_network = G = nx.gnp_random_graph(n_agents, p=0.4, directed=True)\n",
    "nx.complete_graph(n_agents) #create_hybrid_network(20,degree=5,p_preferential_attachment=.01)#nx.erdos_renyi_graph(n_agents, 0.009)\\n\",\n",
    "my_model = Model(my_network, n_experiments=30, uncertainty=0.001,histories=True,sampling_update=False)\n",
    "my_model.run_simulation(number_of_steps=10000,show_bar=True) #number_of_steps is a max amount\\n\",\n",
    "print('steps: ',my_model.n_steps)\n",
    "df = pd.DataFrame(my_model.agent_histories)\n",
    "df.info()"
   ]
  }
 ],
 "metadata": {
  "kernelspec": {
   "display_name": "Python 3",
   "language": "python",
   "name": "python3"
  },
  "language_info": {
   "codemirror_mode": {
    "name": "ipython",
    "version": 3
   },
   "file_extension": ".py",
   "mimetype": "text/x-python",
   "name": "python",
   "nbconvert_exporter": "python",
   "pygments_lexer": "ipython3",
   "version": "3.11.11"
  }
 },
 "nbformat": 4,
 "nbformat_minor": 2
}
