{
 "cells": [
  {
   "cell_type": "markdown",
   "metadata": {},
   "source": [
    "# Basic Testing\n",
    "\n",
    "In this notebook we test that the main files work well."
   ]
  },
  {
   "cell_type": "code",
   "execution_count": 1,
   "metadata": {},
   "outputs": [],
   "source": [
    "from imports import *\n",
    "from agents import BetaAgent\n",
    "from model import Model"
   ]
  },
  {
   "cell_type": "code",
   "execution_count": 2,
   "metadata": {},
   "outputs": [
    {
     "data": {
      "text/plain": [
       "np.float64(0.8036561835027566)"
      ]
     },
     "execution_count": 2,
     "metadata": {},
     "output_type": "execute_result"
    }
   ],
   "source": [
    "prior_T1 = np.random.uniform(0, 4, size=2)\n",
    "beta.rvs(prior_T1[0], prior_T1[1], size=1)[0]"
   ]
  },
  {
   "cell_type": "code",
   "execution_count": 3,
   "metadata": {},
   "outputs": [
    {
     "data": {
      "text/plain": [
       "np.float64(0.7320877328201761)"
      ]
     },
     "execution_count": 3,
     "metadata": {},
     "output_type": "execute_result"
    }
   ],
   "source": [
    "beta.stats(prior_T1[0], prior_T1[1], moments='m')"
   ]
  },
  {
   "cell_type": "markdown",
   "metadata": {},
   "source": [
    "# 2. First Test"
   ]
  },
  {
   "cell_type": "code",
   "execution_count": 4,
   "metadata": {},
   "outputs": [
    {
     "name": "stderr",
     "output_type": "stream",
     "text": [
      "  1%|          | 72/10000 [00:04<10:25, 15.88it/s]"
     ]
    }
   ],
   "source": [
    "n_agents = 100\n",
    "my_network = G = nx.gnp_random_graph(n_agents, p=0.4, directed=True)\n",
    "nx.complete_graph(n_agents) #create_hybrid_network(20,degree=5,p_preferential_attachment=.01)#nx.erdos_renyi_graph(n_agents, 0.009)\\n\",\n",
    "my_model = Model(my_network, n_experiments=30, uncertainty=0.001,\n",
    "                 histories=True,sampling_update=True,variance_stopping = False)\n",
    "my_model.run_simulation(number_of_steps=10000,show_bar=True) #number_of_steps is a max amount\\n\",\n",
    "print('steps: ',my_model.n_steps)\n",
    "df = pd.DataFrame(my_model.agent_histories)\n",
    "df.info()"
   ]
  }
 ],
 "metadata": {
  "kernelspec": {
   "display_name": "Python 3",
   "language": "python",
   "name": "python3"
  },
  "language_info": {
   "codemirror_mode": {
    "name": "ipython",
    "version": 3
   },
   "file_extension": ".py",
   "mimetype": "text/x-python",
   "name": "python",
   "nbconvert_exporter": "python",
   "pygments_lexer": "ipython3",
   "version": "3.11.11"
  }
 },
 "nbformat": 4,
 "nbformat_minor": 2
}
